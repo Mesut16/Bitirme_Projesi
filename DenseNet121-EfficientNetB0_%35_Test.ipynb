{
  "nbformat": 4,
  "nbformat_minor": 0,
  "metadata": {
    "colab": {
      "provenance": [],
      "gpuType": "T4",
      "authorship_tag": "ABX9TyOKG/EOwJO53MEjuEdfgMZo"
    },
    "kernelspec": {
      "name": "python3",
      "display_name": "Python 3"
    },
    "language_info": {
      "name": "python"
    },
    "accelerator": "GPU"
  },
  "cells": [
    {
      "cell_type": "code",
      "execution_count": 1,
      "metadata": {
        "colab": {
          "base_uri": "https://localhost:8080/"
        },
        "id": "S2f-LENlhFz5",
        "outputId": "e118c667-eaea-4d20-e1aa-5bf452c95499"
      },
      "outputs": [
        {
          "output_type": "stream",
          "name": "stdout",
          "text": [
            "Mounted at /gdrive\n"
          ]
        }
      ],
      "source": [
        "from google.colab import drive\n",
        "drive.mount('/gdrive')"
      ]
    },
    {
      "cell_type": "code",
      "source": [
        "import os\n",
        "import numpy as np\n",
        "import cv2\n",
        "from sklearn.model_selection import train_test_split\n",
        "from sklearn.metrics import accuracy_score, precision_score, recall_score, f1_score, confusion_matrix, classification_report\n",
        "import tensorflow as tf\n",
        "from tensorflow.keras import layers, models\n",
        "import pandas as pd\n",
        "import matplotlib.pyplot as plt\n",
        "import seaborn as sns\n",
        "import glob"
      ],
      "metadata": {
        "id": "xidn7BI8hNLW"
      },
      "execution_count": 2,
      "outputs": []
    },
    {
      "cell_type": "code",
      "source": [
        "#import os\n",
        "print(os.listdir(\"/gdrive/My Drive/Retinal Imaging/Eyes\"))\n",
        "\n",
        "data_dir = '/gdrive/My Drive/Retinal Imaging/Eyes'\n",
        "\n",
        "img_height, img_width = 50, 50\n",
        "data_path = \"/gdrive/My Drive/Retinal Imaging/Eyes\"\n",
        "Cataract_path = os.path.join(data_path, \"Cataract\")\n",
        "Diabetic_Retinopathy_path = os.path.join(data_path, \"Diabetic Retinopathy\")\n",
        "Glaucoma_path = os.path.join(data_path, \"Glaucoma\")\n",
        "Normal_path = os.path.join(data_path, \"Normal\")\n",
        ""
      ],
      "metadata": {
        "colab": {
          "base_uri": "https://localhost:8080/"
        },
        "id": "LUccgWC_hZx5",
        "outputId": "a3280e4b-09c7-4b92-9979-8e41680a8d68"
      },
      "execution_count": 4,
      "outputs": [
        {
          "output_type": "stream",
          "name": "stdout",
          "text": [
            "['Normal', 'Diabetic Retinopathy', 'Glaucoma', 'Cataract']\n"
          ]
        }
      ]
    },
    {
      "cell_type": "code",
      "source": [
        "def load_images(folder_path, label):\n",
        "    images = []\n",
        "    labels = []\n",
        "    for filename in os.listdir(folder_path):\n",
        "        img_path = os.path.join(folder_path, filename)\n",
        "        img = cv2.imread(img_path)\n",
        "        if img is None:\n",
        "            print(f\"Error: Unable to read image {img_path}\")\n",
        "            continue\n",
        "        img = cv2.resize(img, (img_height, img_width))\n",
        "        images.append(img)\n",
        "        labels.append(label)\n",
        "    return np.array(images), np.array(labels)\n",
        "\n",
        "Cataract_images, Cataract_labels = load_images(Cataract_path, 0)\n",
        "Diabetic_Retinopathy_images, Diabetic_Retinopathy_labels = load_images(Diabetic_Retinopathy_path, 1)\n",
        "Glaucoma_images, Glaucoma_labels = load_images(Glaucoma_path, 2)\n",
        "Normal_images, Normal_labels = load_images(Normal_path, 3)\n",
        "\n",
        "\n",
        "x = np.concatenate((Cataract_images, Diabetic_Retinopathy_images, Glaucoma_images, Normal_images), axis=0)\n",
        "y = np.concatenate((Cataract_labels, Diabetic_Retinopathy_labels, Glaucoma_labels, Normal_labels), axis=0)\n"
      ],
      "metadata": {
        "id": "AKgsQRXUibwx"
      },
      "execution_count": 5,
      "outputs": []
    },
    {
      "cell_type": "markdown",
      "source": [
        "**%35 ayırma**"
      ],
      "metadata": {
        "id": "jTJyDcSwqXcj"
      }
    },
    {
      "cell_type": "code",
      "source": [
        "# Veri setini ayırma\n",
        "x_train, x_test, y_train, y_test = train_test_split(x, y, test_size=0.35, random_state =42)\n",
        "\n",
        "x_train, x_val, y_train, y_val = train_test_split(x_train, y_train, test_size=0.10, random_state=42)"
      ],
      "metadata": {
        "id": "ziqfXn7Yk5i4"
      },
      "execution_count": 6,
      "outputs": []
    },
    {
      "cell_type": "code",
      "source": [
        "x_train = np.array(x_train)\n",
        "x_test = np.array(x_test)\n",
        "\n",
        "y_train = np.array(y_train)\n",
        "y_test = np.array(y_test)\n",
        "\n",
        "x_val = np.array(x_val)\n",
        "y_val = np.array(y_val)"
      ],
      "metadata": {
        "id": "P4J0cTU_lQjm"
      },
      "execution_count": 7,
      "outputs": []
    },
    {
      "cell_type": "code",
      "source": [
        "import tensorflow as tf\n",
        "\n",
        "train_yCl = tf.keras.utils.to_categorical(y_train, num_classes=4)\n",
        "test_yCl = tf.keras.utils.to_categorical(y_test, num_classes=4)\n",
        "valid_yCl = tf.keras.utils.to_categorical(y_val, num_classes=4)"
      ],
      "metadata": {
        "id": "_E2vBJdRlSLB"
      },
      "execution_count": 8,
      "outputs": []
    },
    {
      "cell_type": "markdown",
      "source": [
        "# **DenseNet121**"
      ],
      "metadata": {
        "id": "I0btX7-Zp1Fq"
      }
    },
    {
      "cell_type": "code",
      "source": [
        "from tensorflow.keras.applications.densenet import DenseNet121, preprocess_input\n",
        "from tensorflow.keras.layers import GlobalMaxPooling2D, GlobalAveragePooling2D, Dense, Dropout, Flatten\n",
        "\n",
        "input_layer = tf.keras.Input((img_width,img_height,3))\n",
        "preprocessed_inputs = tf.keras.layers.Lambda( lambda x : preprocess_input(x))(input_layer)\n",
        "\n",
        "base_model = DenseNet121(\n",
        "    weights = \"imagenet\",\n",
        "    include_top = False,\n",
        "    input_tensor = preprocessed_inputs\n",
        ")\n",
        "\n",
        "k = GlobalAveragePooling2D()(base_model.output)\n",
        "k = Dense(4)(k)\n",
        "\n",
        "transfer_learning_model = tf.keras.Model(inputs = input_layer, outputs = k)\n",
        "\n",
        "from tensorflow import keras\n",
        "\n",
        "callback_list = [\n",
        "    keras.callbacks.ModelCheckpoint(\n",
        "        filepath='model.h5',\n",
        "        monitor = 'val_accuracy', save_best_only=True, verbose=3\n",
        "    ),\n",
        "    keras.callbacks.EarlyStopping(monitor='val_loss', patience=10, verbose=3)\n",
        "]\n",
        "\n",
        "reduce_lr = tf.keras.callbacks.ReduceLROnPlateau(\n",
        "    monitor = \"val_loss\",\n",
        "    factor = 0.1,\n",
        "    patience = 3,\n",
        "    mode = \"min\",\n",
        "    verbose = 1,\n",
        "    min_lr = 1e-8\n",
        ")\n",
        "\n",
        "callback_list.append(reduce_lr)\n",
        "\n",
        "transfer_learning_model.compile(loss=\"binary_crossentropy\", optimizer=\"adam\", metrics=['accuracy'])\n",
        "\n",
        "#Modelimizi eğitiyoruz.\n",
        "transfer_learning_model.fit(\n",
        "            x_train,\n",
        "            train_yCl,\n",
        "            epochs = 10,\n",
        "            batch_size = 64,\n",
        "            validation_data = (x_val, valid_yCl),\n",
        "            callbacks = callback_list\n",
        "            )"
      ],
      "metadata": {
        "colab": {
          "base_uri": "https://localhost:8080/"
        },
        "id": "JdgC0QwZleOL",
        "outputId": "416a8e50-4fd2-48ab-ae66-9047e4764440"
      },
      "execution_count": 10,
      "outputs": [
        {
          "output_type": "stream",
          "name": "stdout",
          "text": [
            "Epoch 1/10\n",
            "39/39 [==============================] - ETA: 0s - loss: 3.9407 - accuracy: 0.4428\n",
            "Epoch 1: val_accuracy improved from -inf to 0.22182, saving model to model.h5\n"
          ]
        },
        {
          "output_type": "stream",
          "name": "stderr",
          "text": [
            "/usr/local/lib/python3.10/dist-packages/keras/src/engine/training.py:3103: UserWarning: You are saving your model as an HDF5 file via `model.save()`. This file format is considered legacy. We recommend using instead the native Keras format, e.g. `model.save('my_model.keras')`.\n",
            "  saving_api.save_model(\n"
          ]
        },
        {
          "output_type": "stream",
          "name": "stdout",
          "text": [
            "\b\b\b\b\b\b\b\b\b\b\b\b\b\b\b\b\b\b\b\b\b\b\b\b\b\b\b\b\b\b\b\b\b\b\b\b\b\b\b\b\b\b\b\b\b\b\b\b\b\b\b\b\b\b\b\b\b\b\b\b\b\b\b\b\b\b\b\b\b\b\b\b\b\b\b\b\b\b\b\b\b\b\r39/39 [==============================] - 93s 348ms/step - loss: 3.9407 - accuracy: 0.4428 - val_loss: 5.9675 - val_accuracy: 0.2218 - lr: 0.0010\n",
            "Epoch 2/10\n",
            "39/39 [==============================] - ETA: 0s - loss: 3.3731 - accuracy: 0.4412\n",
            "Epoch 2: val_accuracy improved from 0.22182 to 0.29455, saving model to model.h5\n",
            "39/39 [==============================] - 4s 116ms/step - loss: 3.3731 - accuracy: 0.4412 - val_loss: 3.7687 - val_accuracy: 0.2945 - lr: 0.0010\n",
            "Epoch 3/10\n",
            "39/39 [==============================] - ETA: 0s - loss: 3.4516 - accuracy: 0.3739\n",
            "Epoch 3: val_accuracy did not improve from 0.29455\n",
            "39/39 [==============================] - 3s 88ms/step - loss: 3.4516 - accuracy: 0.3739 - val_loss: 3.9043 - val_accuracy: 0.2800 - lr: 0.0010\n",
            "Epoch 4/10\n",
            "39/39 [==============================] - ETA: 0s - loss: 3.2883 - accuracy: 0.3962\n",
            "Epoch 4: val_accuracy improved from 0.29455 to 0.33455, saving model to model.h5\n",
            "39/39 [==============================] - 5s 142ms/step - loss: 3.2883 - accuracy: 0.3962 - val_loss: 3.6227 - val_accuracy: 0.3345 - lr: 0.0010\n",
            "Epoch 5/10\n",
            "39/39 [==============================] - ETA: 0s - loss: 3.1289 - accuracy: 0.4278\n",
            "Epoch 5: val_accuracy improved from 0.33455 to 0.36364, saving model to model.h5\n",
            "39/39 [==============================] - 5s 118ms/step - loss: 3.1289 - accuracy: 0.4278 - val_loss: 4.1484 - val_accuracy: 0.3636 - lr: 0.0010\n",
            "Epoch 6/10\n",
            "39/39 [==============================] - ETA: 0s - loss: 2.9534 - accuracy: 0.4676\n",
            "Epoch 6: val_accuracy did not improve from 0.36364\n",
            "39/39 [==============================] - 3s 84ms/step - loss: 2.9534 - accuracy: 0.4676 - val_loss: 3.5088 - val_accuracy: 0.3600 - lr: 0.0010\n",
            "Epoch 7/10\n",
            "39/39 [==============================] - ETA: 0s - loss: 4.2032 - accuracy: 0.3487\n",
            "Epoch 7: val_accuracy did not improve from 0.36364\n",
            "39/39 [==============================] - 4s 114ms/step - loss: 4.2032 - accuracy: 0.3487 - val_loss: 3.8562 - val_accuracy: 0.2218 - lr: 0.0010\n",
            "Epoch 8/10\n",
            "39/39 [==============================] - ETA: 0s - loss: 4.6124 - accuracy: 0.3240\n",
            "Epoch 8: val_accuracy did not improve from 0.36364\n",
            "39/39 [==============================] - 3s 87ms/step - loss: 4.6124 - accuracy: 0.3240 - val_loss: 3.8422 - val_accuracy: 0.2327 - lr: 0.0010\n",
            "Epoch 9/10\n",
            "39/39 [==============================] - ETA: 0s - loss: 4.4400 - accuracy: 0.3362\n",
            "Epoch 9: val_accuracy did not improve from 0.36364\n",
            "\n",
            "Epoch 9: ReduceLROnPlateau reducing learning rate to 0.00010000000474974513.\n",
            "39/39 [==============================] - 3s 83ms/step - loss: 4.4400 - accuracy: 0.3362 - val_loss: 3.8029 - val_accuracy: 0.3055 - lr: 0.0010\n",
            "Epoch 10/10\n",
            "39/39 [==============================] - ETA: 0s - loss: 4.2697 - accuracy: 0.3398\n",
            "Epoch 10: val_accuracy did not improve from 0.36364\n",
            "39/39 [==============================] - 3s 85ms/step - loss: 4.2697 - accuracy: 0.3398 - val_loss: 3.6165 - val_accuracy: 0.3236 - lr: 1.0000e-04\n"
          ]
        },
        {
          "output_type": "execute_result",
          "data": {
            "text/plain": [
              "<keras.src.callbacks.History at 0x78723cf9b220>"
            ]
          },
          "metadata": {},
          "execution_count": 10
        }
      ]
    },
    {
      "cell_type": "markdown",
      "source": [
        "**Test verisi üzerinde DenseNet121 modelimizi değerlendirelim**"
      ],
      "metadata": {
        "id": "Sn8pel-dp7rk"
      }
    },
    {
      "cell_type": "code",
      "source": [
        "#Modelimizin Validation, Test ve Train Acurracy Skorlarını hesaplayalım.\n",
        "score_valid = transfer_learning_model.evaluate(x_val, valid_yCl)\n",
        "print(\"Validation Accuracy: \", score_valid[1])\n",
        "\n",
        "score_test = transfer_learning_model.evaluate(x_test, test_yCl)\n",
        "print(\"Validation Accuracy: \", score_test[1])\n",
        "\n",
        "score_train = transfer_learning_model.evaluate(x_train, train_yCl)\n",
        "print(\"Validation Accuracy: \", score_train[1])\n",
        "\n",
        "# Test verisi üzerinde tahminlerin yapılması\n",
        "y_pred = transfer_learning_model.predict(x_test)\n",
        "y_pred_classes = np.argmax(y_pred, axis=1)\n",
        "y_true = np.argmax(test_yCl, axis=1)\n",
        "\n",
        "# Accuracy\n",
        "accuracy = accuracy_score(y_true, y_pred_classes)\n",
        "print(f'Test Accuracy: {accuracy:.4f}')\n",
        "\n",
        "# Precision\n",
        "precision = precision_score(y_true, y_pred_classes, average='weighted')\n",
        "print(f'Precision: {precision:.4f}')\n",
        "\n",
        "# Recall\n",
        "recall = recall_score(y_true, y_pred_classes, average='weighted')\n",
        "print(f'Recall: {recall:.4f}')\n",
        "\n",
        "# F1 Score\n",
        "f1 = f1_score(y_true, y_pred_classes, average='weighted')\n",
        "print(f'F1 Score: {f1:.4f}')\n",
        "\n",
        "# Confusion Matrix\n",
        "conf_matrix = confusion_matrix(y_true, y_pred_classes)\n",
        "print('Confusion Matrix:')\n",
        "print(conf_matrix)\n",
        "\n",
        "# Classification Report\n",
        "class_report = classification_report(y_true, y_pred_classes, labels=np.unique(y_true))\n",
        "print('Classification Report:')\n",
        "print(class_report)"
      ],
      "metadata": {
        "colab": {
          "base_uri": "https://localhost:8080/"
        },
        "id": "K7N0dhYumGDf",
        "outputId": "c5f11619-873a-4547-cb4f-8500065fb497"
      },
      "execution_count": 11,
      "outputs": [
        {
          "output_type": "stream",
          "name": "stdout",
          "text": [
            "9/9 [==============================] - 3s 26ms/step - loss: 3.6165 - accuracy: 0.3236\n",
            "Validation Accuracy:  0.32363635301589966\n",
            "47/47 [==============================] - 2s 46ms/step - loss: 3.8652 - accuracy: 0.3462\n",
            "Validation Accuracy:  0.3462059497833252\n",
            "78/78 [==============================] - 2s 28ms/step - loss: 3.8583 - accuracy: 0.3204\n",
            "Validation Accuracy:  0.3203568458557129\n",
            "47/47 [==============================] - 3s 24ms/step\n",
            "Test Accuracy: 0.3462\n",
            "Precision: 0.3625\n",
            "Recall: 0.3462\n",
            "F1 Score: 0.3002\n",
            "Confusion Matrix:\n",
            "[[  5  71  47 251]\n",
            " [  8 248  33 106]\n",
            " [  0  81  86 178]\n",
            " [  1 112  77 172]]\n",
            "Classification Report:\n",
            "              precision    recall  f1-score   support\n",
            "\n",
            "           0       0.36      0.01      0.03       374\n",
            "           1       0.48      0.63      0.55       395\n",
            "           2       0.35      0.25      0.29       345\n",
            "           3       0.24      0.48      0.32       362\n",
            "\n",
            "    accuracy                           0.35      1476\n",
            "   macro avg       0.36      0.34      0.30      1476\n",
            "weighted avg       0.36      0.35      0.30      1476\n",
            "\n"
          ]
        }
      ]
    },
    {
      "cell_type": "code",
      "source": [
        "\n",
        "from sklearn.metrics import confusion_matrix\n",
        "import seaborn as sns\n",
        "import matplotlib.pyplot as plt\n",
        "\n",
        "cm = confusion_matrix(y_true, y_pred_classes)\n",
        "sns.heatmap(cm, annot=True, fmt=\"d\", cmap=\"Blues\", xticklabels=[\"Normal\",\"Glaucoma\",\"Diabetic Retinopathy\",\"Cataract\"], yticklabels=[\"Normal\",\"Glaucoma\",\"Diabetic Retinopathy\",\"Cataract\"])\n",
        "plt.title(\"Confusion Matrix\")\n",
        "plt.xlabel(\"Predicted\")\n",
        "plt.ylabel(\"True\")\n",
        "plt.show()"
      ],
      "metadata": {
        "colab": {
          "base_uri": "https://localhost:8080/",
          "height": 604
        },
        "id": "Ni5Dxl3emzJD",
        "outputId": "f5a39bf0-398b-40c4-f460-894b5095408b"
      },
      "execution_count": 16,
      "outputs": [
        {
          "output_type": "display_data",
          "data": {
            "text/plain": [
              "<Figure size 640x480 with 2 Axes>"
            ],
            "image/png": "[encoded data removed]"
          },
          "metadata": {}
        }
      ]
    },
    {
      "cell_type": "markdown",
      "source": [
        "# **EfficientNetB0**"
      ],
      "metadata": {
        "id": "cEYuZlnBpXRB"
      }
    },
    {
      "cell_type": "code",
      "source": [
        "from tensorflow.keras.applications import EfficientNetB0\n",
        "\n",
        "base_model = EfficientNetB0(\n",
        "    weights='imagenet',\n",
        "    include_top=False,\n",
        "    input_shape=(img_width, img_height, 3)\n",
        ")\n",
        "\n",
        "k = GlobalMaxPooling2D()(base_model.output)\n",
        "k = Dense(4)(k)\n",
        "\n",
        "transfer_learning_model_efficientnet = tf.keras.Model(inputs=base_model.input, outputs=k)\n",
        "\n",
        "transfer_learning_model_efficientnet.compile(loss='categorical_crossentropy', optimizer='adam', metrics=['accuracy'])\n",
        "\n",
        "callback_list_efficientnet = [\n",
        "    keras.callbacks.ModelCheckpoint(\n",
        "        filepath='model_efficientnet.h5',\n",
        "        monitor='val_accuracy',\n",
        "        save_best_only=True,\n",
        "        verbose=3\n",
        "    ),\n",
        "    keras.callbacks.EarlyStopping(monitor='val_loss', patience=10, verbose=3)\n",
        "]\n",
        "\n",
        "transfer_learning_model_efficientnet.fit(\n",
        "    x_train,\n",
        "    train_yCl,\n",
        "    epochs=10,\n",
        "    batch_size=64,\n",
        "    validation_data=(x_val, valid_yCl),\n",
        "    callbacks=callback_list_efficientnet\n",
        ")"
      ],
      "metadata": {
        "colab": {
          "base_uri": "https://localhost:8080/"
        },
        "id": "Klt7JecfoKbc",
        "outputId": "c47caf56-e95c-47dc-de98-060cecc0ac7b"
      },
      "execution_count": 18,
      "outputs": [
        {
          "output_type": "stream",
          "name": "stdout",
          "text": [
            "Epoch 1/10\n",
            "39/39 [==============================] - ETA: 0s - loss: 5.5923 - accuracy: 0.2352\n",
            "Epoch 1: val_accuracy improved from -inf to 0.19273, saving model to model_efficientnet.h5\n"
          ]
        },
        {
          "output_type": "stream",
          "name": "stderr",
          "text": [
            "/usr/local/lib/python3.10/dist-packages/keras/src/engine/training.py:3103: UserWarning: You are saving your model as an HDF5 file via `model.save()`. This file format is considered legacy. We recommend using instead the native Keras format, e.g. `model.save('my_model.keras')`.\n",
            "  saving_api.save_model(\n"
          ]
        },
        {
          "output_type": "stream",
          "name": "stdout",
          "text": [
            "\b\b\b\b\b\b\b\b\b\b\b\b\b\b\b\b\b\b\b\b\b\b\b\b\b\b\b\b\b\b\b\b\b\b\b\b\b\b\b\b\b\b\b\b\b\b\b\b\b\b\b\b\b\b\b\b\b\b\b\b\b\b\b\b\b\b\b\b\b\b\b\b\b\b\b\b\b\b\b\b\b\b\r39/39 [==============================] - 50s 180ms/step - loss: 5.5923 - accuracy: 0.2352 - val_loss: 4.6426 - val_accuracy: 0.1927\n",
            "Epoch 2/10\n",
            "38/39 [============================>.] - ETA: 0s - loss: 6.4455 - accuracy: 0.3413\n",
            "Epoch 2: val_accuracy improved from 0.19273 to 0.27273, saving model to model_efficientnet.h5\n",
            "39/39 [==============================] - 3s 74ms/step - loss: 6.4709 - accuracy: 0.3418 - val_loss: 5.8683 - val_accuracy: 0.2727\n",
            "Epoch 3/10\n",
            "39/39 [==============================] - ETA: 0s - loss: 4.9272 - accuracy: 0.4359\n",
            "Epoch 3: val_accuracy did not improve from 0.27273\n",
            "39/39 [==============================] - 2s 56ms/step - loss: 4.9272 - accuracy: 0.4359 - val_loss: 4.5130 - val_accuracy: 0.2073\n",
            "Epoch 4/10\n",
            "39/39 [==============================] - ETA: 0s - loss: 5.2732 - accuracy: 0.2839\n",
            "Epoch 4: val_accuracy did not improve from 0.27273\n",
            "39/39 [==============================] - 2s 60ms/step - loss: 5.2732 - accuracy: 0.2839 - val_loss: 3.4667 - val_accuracy: 0.2036\n",
            "Epoch 5/10\n",
            "39/39 [==============================] - ETA: 0s - loss: 4.6900 - accuracy: 0.0848\n",
            "Epoch 5: val_accuracy did not improve from 0.27273\n",
            "39/39 [==============================] - 3s 76ms/step - loss: 4.6900 - accuracy: 0.0848 - val_loss: 9.4511 - val_accuracy: 0.1309\n",
            "Epoch 6/10\n",
            "39/39 [==============================] - ETA: 0s - loss: 6.5882 - accuracy: 0.0616\n",
            "Epoch 6: val_accuracy did not improve from 0.27273\n",
            "39/39 [==============================] - 2s 61ms/step - loss: 6.5882 - accuracy: 0.0616 - val_loss: 7.7210 - val_accuracy: 0.1345\n",
            "Epoch 7/10\n",
            "38/39 [============================>.] - ETA: 0s - loss: 6.1187 - accuracy: 0.2019\n",
            "Epoch 7: val_accuracy did not improve from 0.27273\n",
            "39/39 [==============================] - 2s 57ms/step - loss: 6.1100 - accuracy: 0.2036 - val_loss: 7.1559 - val_accuracy: 0.1600\n",
            "Epoch 8/10\n",
            "39/39 [==============================] - ETA: 0s - loss: 5.2057 - accuracy: 0.3727\n",
            "Epoch 8: val_accuracy improved from 0.27273 to 0.28364, saving model to model_efficientnet.h5\n",
            "39/39 [==============================] - 3s 75ms/step - loss: 5.2057 - accuracy: 0.3727 - val_loss: 6.8328 - val_accuracy: 0.2836\n",
            "Epoch 9/10\n",
            "39/39 [==============================] - ETA: 0s - loss: 9.2921 - accuracy: 0.4315\n",
            "Epoch 9: val_accuracy improved from 0.28364 to 0.40000, saving model to model_efficientnet.h5\n",
            "39/39 [==============================] - 3s 73ms/step - loss: 9.2921 - accuracy: 0.4315 - val_loss: 7.0264 - val_accuracy: 0.4000\n",
            "Epoch 10/10\n",
            "39/39 [==============================] - ETA: 0s - loss: 8.0216 - accuracy: 0.3706\n",
            "Epoch 10: val_accuracy did not improve from 0.40000\n",
            "39/39 [==============================] - 3s 71ms/step - loss: 8.0216 - accuracy: 0.3706 - val_loss: 6.8499 - val_accuracy: 0.2836\n"
          ]
        },
        {
          "output_type": "execute_result",
          "data": {
            "text/plain": [
              "<keras.src.callbacks.History at 0x7872b010f1c0>"
            ]
          },
          "metadata": {},
          "execution_count": 18
        }
      ]
    },
    {
      "cell_type": "markdown",
      "source": [
        "**Test verisi üzerinde EfficientNetB0 modelimizi değerlendirelim**"
      ],
      "metadata": {
        "id": "-Dph5N97qHyX"
      }
    },
    {
      "cell_type": "code",
      "source": [
        "score_valid = transfer_learning_model.evaluate(x_val, valid_yCl)\n",
        "print(\"Validation Accuracy: \", score_valid[1])\n",
        "\n",
        "score_test = transfer_learning_model.evaluate(x_test, test_yCl)\n",
        "print(\"Validation Accuracy: \", score_test[1])\n",
        "\n",
        "score_train = transfer_learning_model.evaluate(x_train, train_yCl)\n",
        "print(\"Validation Accuracy: \", score_train[1])\n",
        "\n",
        "# Test verisi üzerinde tahminlerin yapılması\n",
        "y_pred = transfer_learning_model.predict(x_test)\n",
        "y_pred_classes = np.argmax(y_pred, axis=1)\n",
        "y_true = np.argmax(test_yCl, axis=1)\n",
        "\n",
        "# Accuracy\n",
        "accuracy = accuracy_score(y_true, y_pred_classes)\n",
        "print(f'Test Accuracy: {accuracy:.4f}')\n",
        "\n",
        "# Precision\n",
        "precision = precision_score(y_true, y_pred_classes, average='weighted')\n",
        "print(f'Precision: {precision:.4f}')\n",
        "\n",
        "# Recall\n",
        "recall = recall_score(y_true, y_pred_classes, average='weighted')\n",
        "print(f'Recall: {recall:.4f}')\n",
        "\n",
        "# F1 Score\n",
        "f1 = f1_score(y_true, y_pred_classes, average='weighted')\n",
        "print(f'F1 Score: {f1:.4f}')\n",
        "\n",
        "# Confusion Matrix\n",
        "conf_matrix = confusion_matrix(y_true, y_pred_classes)\n",
        "print('Confusion Matrix:')\n",
        "print(conf_matrix)\n",
        "\n",
        "# Classification Report\n",
        "class_report = classification_report(y_true, y_pred_classes, labels=np.unique(y_true))\n",
        "print('Classification Report:')\n",
        "print(class_report)"
      ],
      "metadata": {
        "colab": {
          "base_uri": "https://localhost:8080/"
        },
        "id": "TaNLuJJ5oS-V",
        "outputId": "5b857230-32ed-4bdc-d5b5-ab6446e5133c"
      },
      "execution_count": 19,
      "outputs": [
        {
          "output_type": "stream",
          "name": "stdout",
          "text": [
            "9/9 [==============================] - 0s 22ms/step - loss: 3.6165 - accuracy: 0.3236\n",
            "Validation Accuracy:  0.32363635301589966\n",
            "47/47 [==============================] - 1s 16ms/step - loss: 3.8652 - accuracy: 0.3462\n",
            "Validation Accuracy:  0.3462059497833252\n",
            "78/78 [==============================] - 1s 13ms/step - loss: 3.8583 - accuracy: 0.3204\n",
            "Validation Accuracy:  0.3203568458557129\n",
            "47/47 [==============================] - 1s 12ms/step\n",
            "Test Accuracy: 0.3462\n",
            "Precision: 0.3625\n",
            "Recall: 0.3462\n",
            "F1 Score: 0.3002\n",
            "Confusion Matrix:\n",
            "[[  5  71  47 251]\n",
            " [  8 248  33 106]\n",
            " [  0  81  86 178]\n",
            " [  1 112  77 172]]\n",
            "Classification Report:\n",
            "              precision    recall  f1-score   support\n",
            "\n",
            "           0       0.36      0.01      0.03       374\n",
            "           1       0.48      0.63      0.55       395\n",
            "           2       0.35      0.25      0.29       345\n",
            "           3       0.24      0.48      0.32       362\n",
            "\n",
            "    accuracy                           0.35      1476\n",
            "   macro avg       0.36      0.34      0.30      1476\n",
            "weighted avg       0.36      0.35      0.30      1476\n",
            "\n"
          ]
        }
      ]
    },
    {
      "cell_type": "code",
      "source": [
        "from sklearn.metrics import confusion_matrix\n",
        "import seaborn as sns\n",
        "import matplotlib.pyplot as plt\n",
        "\n",
        "cm = confusion_matrix(y_true, y_pred_classes)\n",
        "sns.heatmap(cm, annot=True, fmt=\"d\", cmap=\"Blues\", xticklabels=[\"Normal\",\"Glaucoma\",\"Diabetic Retinopathy\",\"Cataract\"], yticklabels=[\"Normal\",\"Glaucoma\",\"Diabetic Retinopathy\",\"Cataract\"])\n",
        "plt.title(\"Confusion Matrix\")\n",
        "plt.xlabel(\"Predicted\")\n",
        "plt.ylabel(\"True\")\n",
        "plt.show()"
      ],
      "metadata": {
        "colab": {
          "base_uri": "https://localhost:8080/",
          "height": 604
        },
        "id": "UJib1hVVoWbH",
        "outputId": "ebe218c3-1ac5-4821-eb98-e6fb0778cf7d"
      },
      "execution_count": 20,
      "outputs": [
        {
          "output_type": "display_data",
          "data": {
            "text/plain": [
              "<Figure size 640x480 with 2 Axes>"
            ],
            "image/png": "[encoded data removed]"
          },
          "metadata": {}
        }
      ]
    }
  ]
}